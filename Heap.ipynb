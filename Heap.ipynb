{
 "cells": [
  {
   "cell_type": "markdown",
   "metadata": {},
   "source": [
    "# 堆与优先队列"
   ]
  },
  {
   "cell_type": "markdown",
   "metadata": {},
   "source": [
    "普通队列：先进先出，后进后出  \n",
    "优先队列：根据优先级动态地执行"
   ]
  },
  {
   "cell_type": "markdown",
   "metadata": {},
   "source": [
    "# 堆的基本实现"
   ]
  },
  {
   "cell_type": "markdown",
   "metadata": {},
   "source": [
    "最经典的实现 二叉堆 BinaryTree"
   ]
  },
  {
   "cell_type": "markdown",
   "metadata": {},
   "source": [
    "二叉堆使一颗完全二叉树，堆中某个节点的值总是不大于其父节点的值"
   ]
  },
  {
   "cell_type": "code",
   "execution_count": 109,
   "metadata": {},
   "outputs": [],
   "source": [
    "import numpy as np\n",
    "class BinaryHeap(object):\n",
    "    def __init__(self, arr=[0]):\n",
    "        if arr.size == 1:\n",
    "            self.data = [0]\n",
    "            self.count = 0\n",
    "        else:\n",
    "            # heapify过程\n",
    "            self.data = [0]\n",
    "            self.count = len(arr)\n",
    "            for i in range(0, self.count):\n",
    "                self.data.append(arr[i])\n",
    "            j = self.count//2\n",
    "            while j>=1:\n",
    "                self.__shift_down(j)\n",
    "                j -= 1\n",
    "    def __shift_up(self, k):\n",
    "        \"\"\"while k > 1 and self.data[k//2] < self.data[k]:\n",
    "            self.data[k//2], self.data[k] = self.data[k], self.data[k//2]\n",
    "            k = k//2\"\"\"\n",
    "        temp = self.data[k]\n",
    "        while k > 1 and self.data[k//2] < temp:\n",
    "            self.data[k] = self.data[k//2]\n",
    "            k = k//2\n",
    "        self.data[k] = temp\n",
    "    def __shift_down(self, k):\n",
    "        \"\"\"while 2*k <= self.count:\n",
    "            j = 2*k\n",
    "            if j+1 <= self.count and self.data[j+1] > self.data[j]:\n",
    "                j += 1\n",
    "            if self.data[k] >= self.data[j]:\n",
    "                break;\n",
    "            self.data[k],self.data[j] = self.data[j],self.data[k]\n",
    "            k = j\"\"\"\n",
    "        if self.count != 0:\n",
    "            temp = self.data[k]\n",
    "            while 2*k <= self.count:\n",
    "                j = 2*k\n",
    "                if j+1 <= self.count and self.data[j+1] > self.data[j]:\n",
    "                    j += 1\n",
    "                if temp >= self.data[j]:\n",
    "                    break;\n",
    "                self.data[k]= self.data[j]\n",
    "                k = j\n",
    "            self.data[k] = temp\n",
    "    def size(self):\n",
    "        return self.count\n",
    "    def is_empty(self):\n",
    "        return self.count == 0\n",
    "    def insert(self, item):\n",
    "        self.data.append(item)\n",
    "        self.count += 1\n",
    "        self.__shift_up(self.count)\n",
    "    def extract_max(self):\n",
    "        ret = self.data[1]\n",
    "        self.data[1] = self.data[self.count]\n",
    "        self.data.pop()\n",
    "        self.count -= 1\n",
    "        self.__shift_down(1)\n",
    "        return ret\n",
    "    "
   ]
  },
  {
   "cell_type": "markdown",
   "metadata": {},
   "source": [
    "## 原地堆排序"
   ]
  },
  {
   "cell_type": "code",
   "execution_count": 112,
   "metadata": {
    "collapsed": true
   },
   "outputs": [],
   "source": [
    "def heap_sort(arr):\n",
    "    n = len(arr)\n",
    "    i = (n-1)//2\n",
    "    while i>=0:\n",
    "        __shift_down(arr, n, i)\n",
    "        i -= 1\n",
    "    j = n-1\n",
    "    while j>0:\n",
    "        arr[0], arr[j] = arr[j], arr[0]\n",
    "        __shift_down(arr, j, 0)\n",
    "        j -= 1\n",
    "def __shift_down(arr, n, k):\n",
    "    while 2*k+1 < n:\n",
    "        j = 2*k+1\n",
    "        if j+1<n and arr[j+1]>arr[j]:\n",
    "            j += 1\n",
    "        if arr[k] >= arr[j]:\n",
    "            break\n",
    "        arr[k], arr[j] = arr[j], arr[k]\n",
    "        k = j"
   ]
  }
 ],
 "metadata": {
  "kernelspec": {
   "display_name": "Python 3",
   "language": "python",
   "name": "python3"
  },
  "language_info": {
   "codemirror_mode": {
    "name": "ipython",
    "version": 3
   },
   "file_extension": ".py",
   "mimetype": "text/x-python",
   "name": "python",
   "nbconvert_exporter": "python",
   "pygments_lexer": "ipython3",
   "version": "3.6.1"
  }
 },
 "nbformat": 4,
 "nbformat_minor": 2
}
