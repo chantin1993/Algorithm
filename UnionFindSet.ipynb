{
 "cells": [
  {
   "cell_type": "markdown",
   "metadata": {},
   "source": [
    "# 并查集"
   ]
  },
  {
   "cell_type": "markdown",
   "metadata": {},
   "source": [
    "连接问题：网络中节点间的连接状态  "
   ]
  },
  {
   "cell_type": "markdown",
   "metadata": {},
   "source": [
    "对于一组数据，只要支持两个操作：  \n",
    "union(p,q)\n",
    "find(p)  \n",
    "回答问题：  \n",
    "isconnected(p,q)"
   ]
  },
  {
   "cell_type": "code",
   "execution_count": null,
   "metadata": {
    "collapsed": true
   },
   "outputs": [],
   "source": [
    "class UnionFind(object):\n",
    "    def __init__(self,count):\n",
    "        self.parent = []\n",
    "        self.rank = []\n",
    "        for i in range(0,count):\n",
    "            self.parent.append(i)\n",
    "            self.rank.append(1)\n",
    "        self.count = count\n",
    "    def size(self):\n",
    "        return self.count\n",
    "    def isConnected(self,p,q):\n",
    "        return self.find(p) == self.find(q)\n",
    "    def find(self,p):\n",
    "        while not p == self.parent[p]:\n",
    "            # 路径压缩\n",
    "            self.parent[p] = self.parent[self.parent[p]]\n",
    "            p = self.parent[p]\n",
    "        return p\n",
    "        # 路径压缩的另一种方式\n",
    "        \"\"\"if not p == self.parent[p]:\n",
    "            self.parent[p] = find(self.parent[p])\n",
    "        return parent[p]\"\"\"\n",
    "    def unionElement(self,p,q):\n",
    "        pRoot = self.find(p)\n",
    "        qRoot = self.find(q)\n",
    "        if pRoot == qRoot:\n",
    "            return\n",
    "        if self.rank[pRoot] < self.rank[qRoot]:\n",
    "            self.parent[pRoot] = qRoot\n",
    "        elif self.rank[pRoot] > self.rank[qRoot]:\n",
    "            self.parent[qRoot] = pRoot\n",
    "        else:\n",
    "            self.parent[pRoot] = qRoot\n",
    "            self.rank[qRoot] += 1"
   ]
  }
 ],
 "metadata": {
  "kernelspec": {
   "display_name": "Python 3",
   "language": "python",
   "name": "python3"
  },
  "language_info": {
   "codemirror_mode": {
    "name": "ipython",
    "version": 3
   },
   "file_extension": ".py",
   "mimetype": "text/x-python",
   "name": "python",
   "nbconvert_exporter": "python",
   "pygments_lexer": "ipython3",
   "version": "3.6.1"
  }
 },
 "nbformat": 4,
 "nbformat_minor": 2
}
