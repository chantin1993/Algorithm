{
 "cells": [
  {
   "cell_type": "markdown",
   "metadata": {},
   "source": [
    "# O(n^2)排序算法"
   ]
  },
  {
   "cell_type": "markdown",
   "metadata": {},
   "source": [
    "## 选择排序 Selection Sort"
   ]
  },
  {
   "cell_type": "markdown",
   "metadata": {},
   "source": [
    "&nbsp;&nbsp;&nbsp;&nbsp;寻找最小元素"
   ]
  },
  {
   "cell_type": "code",
   "execution_count": 1,
   "metadata": {
    "collapsed": true
   },
   "outputs": [],
   "source": [
    "# 是否排序成功\n",
    "def is_sorted(arr):\n",
    "    for i in range(0, len(arr)-1):\n",
    "        if arr[i] > arr[i+1]:\n",
    "            return False\n",
    "    return True"
   ]
  },
  {
   "cell_type": "code",
   "execution_count": 2,
   "metadata": {},
   "outputs": [],
   "source": [
    "# 生成一个长度为n的近乎有序的数组\n",
    "import random\n",
    "def generate_nearly_ordered_array(n, swap_time):\n",
    "    arr = [i for i in range(0,n)]\n",
    "    for i in range(0, swap_time):\n",
    "        pos_x = random.randint(0,n)\n",
    "        pos_y = random.randint(0,n)\n",
    "        arr[pos_x], arr[pos_y] = arr[pos_y], arr[pos_x]\n",
    "    return arr"
   ]
  },
  {
   "cell_type": "code",
   "execution_count": 3,
   "metadata": {
    "collapsed": true
   },
   "outputs": [],
   "source": [
    "def copy_array(arr):\n",
    "    aux = []\n",
    "    for i in range(0, len(arr)):\n",
    "        aux.append(arr[i])\n",
    "    return np.array(aux)"
   ]
  },
  {
   "cell_type": "code",
   "execution_count": 4,
   "metadata": {
    "collapsed": true
   },
   "outputs": [],
   "source": [
    "def selection_sort(arr):\n",
    "    # 0-(n-2)\n",
    "    for i in range(0, len(arr)-1):\n",
    "        min_index = i\n",
    "        # 1-(n-1)\n",
    "        for j in range(i+1, len(arr)):\n",
    "            if arr[min_index] > arr[j]:\n",
    "                min_index = j\n",
    "        arr[i], arr[min_index] = arr[min_index], arr[i]"
   ]
  },
  {
   "cell_type": "markdown",
   "metadata": {},
   "source": [
    "## 插入排序 Insertion Sort"
   ]
  },
  {
   "cell_type": "markdown",
   "metadata": {},
   "source": [
    "&nbsp;&nbsp;&nbsp;&nbsp;插入排序的基本操作就是将一个数据插入到已经排好序的有序数据中,将该数据同它前一个元素比较之后交换"
   ]
  },
  {
   "cell_type": "code",
   "execution_count": 5,
   "metadata": {
    "collapsed": true
   },
   "outputs": [],
   "source": [
    "# 对arr[left...right]进行插入排序\n",
    "def insertion_sort(arr, left=0, right=0):\n",
    "    \"\"\"for i in range(1, len(arr)):\n",
    "        j = i\n",
    "        # 插入排序可以提前结束循环，理论上比选择排序经历的循环要少\n",
    "        while j>0 and arr[j] < arr[j-1]:\n",
    "            # 不停的交换使得性能下降\n",
    "            arr[j],arr[j-1] = arr[j-1],arr[j]\n",
    "            j -= 1\"\"\"\n",
    "    if right == 0:\n",
    "        right = len(arr) - 1\n",
    "    for i in range(left+1, right+1):\n",
    "        temp = arr[i]\n",
    "        j = i\n",
    "        # 对于近乎有序的数组性能非常高\n",
    "        # 对于一个有序数组，插入排序是O(n)\n",
    "        while j>left and temp < arr[j-1]:\n",
    "            arr[j] = arr[j-1]\n",
    "            j -= 1\n",
    "        arr[j] = temp"
   ]
  },
  {
   "cell_type": "markdown",
   "metadata": {},
   "source": [
    "## 冒泡排序 Bubble Sort"
   ]
  },
  {
   "cell_type": "markdown",
   "metadata": {},
   "source": [
    "## 希尔排序 Shell Sort"
   ]
  },
  {
   "cell_type": "markdown",
   "metadata": {},
   "source": [
    "# O(nlogn)排序算法"
   ]
  },
  {
   "cell_type": "markdown",
   "metadata": {},
   "source": [
    "## 归并排序 Merge Sort"
   ]
  },
  {
   "cell_type": "code",
   "execution_count": 6,
   "metadata": {
    "collapsed": true
   },
   "outputs": [],
   "source": [
    "def merge_sort(arr):\n",
    "    __merge_sort(arr, 0, len(arr)-1)\n",
    "# 递归使用归并排序，对arr[left...right]范围进行排序\n",
    "def __merge_sort(arr, left, right):\n",
    "    # 递归到底并不是最优的，对于长度很小的排序，可以优化成插入排序\n",
    "    \"\"\"if left>=right:\n",
    "        return\"\"\"\n",
    "    if (right-left)<15:\n",
    "        insertion_sort(arr, left, right)\n",
    "        return\n",
    "    mid = int((left+right)/2)\n",
    "    __merge_sort(arr, left, mid)\n",
    "    __merge_sort(arr, mid+1, right)\n",
    "    # 如果是近乎有序的排序，归并优化\n",
    "    if arr[mid]>arr[mid+1]:\n",
    "        __merge(arr, left, mid, right)\n",
    "# 将arr[left...mid]和arr[mid+1...right]两部分进行归并\n",
    "def __merge(arr, left, mid, right):\n",
    "    aux = []\n",
    "    for i in range(left, right+1):\n",
    "        \"\"\"print('i:%s' % i)\n",
    "        print('left:%s' % left)\n",
    "        print('right:%s' % right)\"\"\"\n",
    "        aux.append(arr[i])\n",
    "    i = left\n",
    "    j = mid + 1\n",
    "    for k in range(left, right+1):\n",
    "        if i>mid:\n",
    "            arr[k] = aux[j-left]\n",
    "            j += 1\n",
    "        elif j>right:\n",
    "            arr[k] = aux[i-left]\n",
    "            i += 1\n",
    "        elif aux[i-left]<aux[j-left]:\n",
    "            arr[k] = aux[i-left]\n",
    "            i += 1\n",
    "        else:\n",
    "            arr[k] = aux[j-left]\n",
    "            j += 1"
   ]
  },
  {
   "cell_type": "markdown",
   "metadata": {},
   "source": [
    "归并排序可以求逆序对"
   ]
  },
  {
   "cell_type": "markdown",
   "metadata": {},
   "source": [
    "## 自底向上归并排序"
   ]
  },
  {
   "cell_type": "code",
   "execution_count": 7,
   "metadata": {
    "collapsed": true
   },
   "outputs": [],
   "source": [
    "def merge_sort_by_up(arr):\n",
    "    size = 1\n",
    "    while size<=len(arr):\n",
    "        i = 0\n",
    "        while i+size<len(arr):\n",
    "            __merge(arr, i , i+size-1, min(i+size+size-1, len(arr)-1))\n",
    "            i += size + size\n",
    "        size += size"
   ]
  },
  {
   "cell_type": "markdown",
   "metadata": {},
   "source": [
    "优点：对链表排序十分有优势"
   ]
  },
  {
   "cell_type": "markdown",
   "metadata": {},
   "source": [
    "## 快速排序 Quick Sort"
   ]
  },
  {
   "cell_type": "code",
   "execution_count": 8,
   "metadata": {
    "collapsed": true
   },
   "outputs": [],
   "source": [
    "def quick_sort(arr):\n",
    "    __quick_sort(arr, 0, len(arr)-1)\n",
    "# 前闭后闭\n",
    "def __quick_sort(arr, left, right):\n",
    "    \"\"\"if left>=right:\n",
    "        return\"\"\"\n",
    "    if (right-left)<15:\n",
    "        insertion_sort(arr, left, right)\n",
    "        return\n",
    "    p = __partition2(arr, left, right)\n",
    "    __quick_sort(arr, left, p-1)\n",
    "    __quick_sort(arr, p+1, right)\n",
    "# 返回索引p，使得arr[left...p-1]<arr[p],arr[p+1...right]>arr[p]\n",
    "import random\n",
    "def __partition(arr, left, right):\n",
    "    random_index = random.randint(left, right+1)\n",
    "    arr[left],arr[random_index] = arr[random_index],arr[left]\n",
    "    v = arr[left]\n",
    "    j = left\n",
    "    for i in range(left+1, right+1):\n",
    "        if arr[i]<v:\n",
    "            arr[j+1],arr[i] = arr[i],arr[j+1]\n",
    "            j += 1\n",
    "    arr[left], arr[j] = arr[j], arr[left]\n",
    "    return j"
   ]
  },
  {
   "cell_type": "markdown",
   "metadata": {},
   "source": [
    "快速排序求数组中第n大元素"
   ]
  },
  {
   "cell_type": "markdown",
   "metadata": {},
   "source": [
    "快速排序patition过程不能保证递归树的平衡性，当排序近乎有序时，退化为O(n^2),所以优化成随机算法"
   ]
  },
  {
   "cell_type": "markdown",
   "metadata": {
    "collapsed": true
   },
   "source": [
    "有大量重复值的优化"
   ]
  },
  {
   "cell_type": "code",
   "execution_count": 9,
   "metadata": {
    "collapsed": true
   },
   "outputs": [],
   "source": [
    "import random\n",
    "def __partition2(arr, left, right):\n",
    "    random_index = random.randint(left, right+1)\n",
    "    arr[left],arr[random_index] = arr[random_index],arr[left]\n",
    "    v = arr[left]\n",
    "    i = left+1\n",
    "    j = right\n",
    "    while True:\n",
    "        while i<=right and arr[i]<v:\n",
    "            i += 1\n",
    "        while j>=left+1 and arr[j]>v:\n",
    "            j -= 1\n",
    "        if i>j:\n",
    "            break\n",
    "        arr[i],arr[j] = arr[j],arr[i]\n",
    "        i += 1\n",
    "        j -= 1\n",
    "    arr[left],arr[j] = arr[j],arr[left]\n",
    "    return j"
   ]
  },
  {
   "cell_type": "markdown",
   "metadata": {},
   "source": [
    "## 三路的快速排序"
   ]
  },
  {
   "cell_type": "code",
   "execution_count": 10,
   "metadata": {
    "collapsed": true
   },
   "outputs": [],
   "source": [
    "def quick_sort_3_ways(arr):\n",
    "    __quick_sort_3_ways(arr, 0, len(arr)-1)\n",
    "# 前闭后闭\n",
    "def __quick_sort_3_ways(arr, left, right):\n",
    "    if (right-left)<15:\n",
    "        insertion_sort(arr, left, right)\n",
    "        return\n",
    "    lt,gt = __partition3(arr, left, right)\n",
    "    __quick_sort(arr, left, lt-1)\n",
    "    __quick_sort(arr, gt, right)\n",
    "# 返回索引p，使得arr[left...p-1]<arr[p],arr[p+1...right]>arr[p]\n",
    "import random\n",
    "def __partition3(arr, left, right):\n",
    "    random_index = random.randint(left, right+1)\n",
    "    arr[left],arr[random_index] = arr[random_index],arr[left]\n",
    "    v = arr[left]\n",
    "    lt = left\n",
    "    gt = right+1\n",
    "    i = left+1\n",
    "    while i<gt:\n",
    "        if arr[i] < v:\n",
    "            arr[i], arr[lt+1] = arr[lt+1], arr[i]\n",
    "            lt += 1\n",
    "            i += 1\n",
    "        elif arr[i] > v:\n",
    "            arr[i], arr[gt-1] = arr[gt-1], arr[i]\n",
    "            gt -= 1\n",
    "        else:\n",
    "            i += 1\n",
    "    arr[left], arr[lt] = arr[lt], arr[left]\n",
    "    return lt,gt"
   ]
  },
  {
   "cell_type": "markdown",
   "metadata": {},
   "source": [
    "3路对解决有大量重复值得排序十分有优势"
   ]
  }
 ],
 "metadata": {
  "kernelspec": {
   "display_name": "Python 3",
   "language": "python",
   "name": "python3"
  },
  "language_info": {
   "codemirror_mode": {
    "name": "ipython",
    "version": 3
   },
   "file_extension": ".py",
   "mimetype": "text/x-python",
   "name": "python",
   "nbconvert_exporter": "python",
   "pygments_lexer": "ipython3",
   "version": "3.6.1"
  }
 },
 "nbformat": 4,
 "nbformat_minor": 2
}
