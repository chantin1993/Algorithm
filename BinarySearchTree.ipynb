{
 "cells": [
  {
   "cell_type": "markdown",
   "metadata": {},
   "source": [
    "# 二分查找"
   ]
  },
  {
   "cell_type": "code",
   "execution_count": 2,
   "metadata": {},
   "outputs": [],
   "source": [
    "def binary_search(arr, target):\n",
    "    left = 0\n",
    "    right = len(arr)-1\n",
    "    while left<=right:\n",
    "        mid = left + (right-left)/2\n",
    "        if arr[mid] == target:\n",
    "            return mid\n",
    "        if arr[mid] > target:\n",
    "            right = mid -1\n",
    "        else:\n",
    "            left = mid + 1\n",
    "    return -1"
   ]
  },
  {
   "cell_type": "markdown",
   "metadata": {},
   "source": [
    "# 二分搜索树"
   ]
  },
  {
   "cell_type": "markdown",
   "metadata": {},
   "source": [
    "每个节点的键值大于左孩子，小于右孩子"
   ]
  },
  {
   "cell_type": "code",
   "execution_count": 44,
   "metadata": {},
   "outputs": [],
   "source": [
    "class TreeNode(object):\n",
    "    def __init__(self,key,value,left=None,right=None,parent=None):\n",
    "        self.key=key\n",
    "        self.value=value\n",
    "        self.left=left\n",
    "        self.right=right\n",
    "        self.parent=parent\n",
    "    def hasLeftChild(self):\n",
    "        return self.left\n",
    "    def hasRightChild(self):\n",
    "        return self.right\n",
    "    def isLeftChild(self):\n",
    "        return self.parent and self.parent.left==self\n",
    "    def isRightChild(self):\n",
    "        return self.parent and self.parent.right==self\n",
    "class BSTree(object):\n",
    "    def __init__(self):\n",
    "        self.root=None\n",
    "        self.size=0\n",
    "    def __insert(self,node,key,value):\n",
    "        if not node:\n",
    "            self.size+=1\n",
    "            return TreeNode(key,value)\n",
    "        if key==node.key:\n",
    "            node.value=value\n",
    "            \n",
    "        elif key<node.key:\n",
    "            node.left=self.__insert(node.left,key,value)\n",
    "        else:\n",
    "            node.right=self.__insert(node.right,key,value)\n",
    "        return node\n",
    "    def __find(self,node,key):\n",
    "        if not node:\n",
    "            return None\n",
    "        elif node.key==key:\n",
    "            return node\n",
    "        elif key<node.key:\n",
    "            return self.__find(node.left,key)\n",
    "        else:\n",
    "            return self.__find(node.right,key)\n",
    "    def __preOrder(self,node):\n",
    "        if node:\n",
    "            print(node.key)\n",
    "            self.__preOrder(node.left)\n",
    "            self.__preOrder(node.right)\n",
    "    def __inOrder(self,node):\n",
    "        if node:\n",
    "            self.__inOrder(node.left)\n",
    "            print(node.key)\n",
    "            self.__inOrder(node.right)\n",
    "    def __postOrder(self,node):\n",
    "        if node:\n",
    "            self.__postOrder(node.left)\n",
    "            self.__postOrder(node.right)\n",
    "            print(node.key)\n",
    "    def __findMin(self,node):\n",
    "        if not node.left:\n",
    "            return node\n",
    "        return self.__findMin(node.left)\n",
    "    def __findMax(self,node):\n",
    "        if not node.right:\n",
    "            return node\n",
    "        return self.__findMax(node.right)\n",
    "    # 删除掉以node为根的二分搜索树中的最小节点\n",
    "    # 返回删除节点后新的二分搜索树的根\n",
    "    def __removeMin(self,node):\n",
    "        if not node.left:\n",
    "            rightNode = node.right\n",
    "            node = None\n",
    "            self.size -= 1\n",
    "            return rightNode\n",
    "        node.left = self.__removeMin(node.left)\n",
    "        return node\n",
    "    def __removeMax(self,node):\n",
    "        if not node.right:\n",
    "            leftNode = node.right\n",
    "            node = None\n",
    "            self.size -= 1\n",
    "            return leftNode\n",
    "        node.right = self.__removeMax(node.right)\n",
    "        return node\n",
    "    # 删除掉以node为根的二分搜索树中键值为key的节点\n",
    "    # 返回删除节点后新的二分搜索树的根\n",
    "    def __remove(self,node,key):\n",
    "        if not node:\n",
    "            return None\n",
    "        if key<node.key:\n",
    "            node.left = self.__remove(node.left,key)\n",
    "            return node\n",
    "        elif key>node.key:\n",
    "            node.right = self.__remove(node.right,key)\n",
    "            return node\n",
    "        else:\n",
    "            if not node.left:\n",
    "                rightNode = node.right;\n",
    "                node = None\n",
    "                self.size -= 1\n",
    "                return rightNode\n",
    "            if not node.right:\n",
    "                leftNode = node.left;\n",
    "                node = None\n",
    "                self.size -= 1\n",
    "                return leftNode\n",
    "            # 寻找右子树的后继\n",
    "            successor = self.__findMin(node.right)\n",
    "            successor.right = self.__removeMin(node.right)\n",
    "            successor.left = node.left\n",
    "            node = None\n",
    "            self.size -= 1\n",
    "            return successor\n",
    "    def length(self):\n",
    "        return self.size\n",
    "    def isEmpty(self):\n",
    "        return self.size==0\n",
    "    def insert(self,key,value):\n",
    "        self.root=self.__insert(self.root,key,value)\n",
    "    def search(self,key):\n",
    "        res=self.__find(self.root,key)\n",
    "        return res.value\n",
    "    def preOrder(self):\n",
    "        self.__preOrder(self.root)\n",
    "    def inOrder(self):\n",
    "        self.__inOrder(self.root)\n",
    "    def postOrder(self):\n",
    "        self.__postOrder(self.root)\n",
    "    # 广度优先遍历\n",
    "    def levelOrder(self):\n",
    "        from queue import Queue\n",
    "        q = Queue()\n",
    "        q.put(self.root)\n",
    "        while not q.empty():\n",
    "            node = q.get()\n",
    "            print(node.key)\n",
    "            if node.left:\n",
    "                q.put(node.left)\n",
    "            if node.right:\n",
    "                q.put(node.right)\n",
    "    def findMin(self):\n",
    "        if self.root:\n",
    "            minNode = self.__findMin(self.root)\n",
    "            return minNode.key\n",
    "    def findMax(self):\n",
    "        if self.root:\n",
    "            maxNode = self.__findMax(self.root)\n",
    "            return maxNode.key\n",
    "    def removeMin(self):\n",
    "        if self.root:\n",
    "            self.__removeMin(self.root)\n",
    "    def removeMax(self):\n",
    "        if self.root:\n",
    "            self.__removeMax(self.root)\n",
    "    def remove(self,key):\n",
    "        self.root = self.__remove(self.root,key)\n",
    "    \"\"\"def delete(self,key):\n",
    "        if self.size>1:\n",
    "            nodeToRemove=self.find(key)\n",
    "            if nodeToRemove:\n",
    "                self.remove(nodeToRemove)\n",
    "                self.size-=1\n",
    "            else:\n",
    "                return -1\n",
    "        elif self.size==1 and self.root.key==key:\n",
    "            self.root=None\n",
    "            self.size-=1\n",
    "        else:\n",
    "            return -1\n",
    "    def remove_by_iteration(self,node):\n",
    "        if not node.left and not node.right:   #node为树叶\n",
    "            if node==node.parent.left:\n",
    "                node.parent.left=None\n",
    "            else:\n",
    "                node.parent.right=None\n",
    "            \n",
    "        elif node.left and node.right:   #有两个儿子\n",
    "            minNode=self._findMin(node.right)\n",
    "            node.key=minNode.key\n",
    "            self.remove(minNode)\n",
    "             \n",
    "        else:    #有一个儿子\n",
    "            if node.hasLeftChild():\n",
    "                if node.isLeftChild():\n",
    "                    node.left.parent=node.parent\n",
    "                    node.parent.left=node.left\n",
    "                elif node.isRightChild():\n",
    "                    node.left.parent=node.parent\n",
    "                    node.parent.right=node.left\n",
    "                else:    #node为根\n",
    "                    self.root=node.left\n",
    "                    node.left.parent=None\n",
    "                    node.left=None\n",
    "            else:\n",
    "                if node.isLeftChild():\n",
    "                    node.right.parent=node.parent\n",
    "                    node.parent.left=node.right\n",
    "                elif node.isRightChild():\n",
    "                    node.right.parent=node.parent\n",
    "                    node.parent.right=node.right\n",
    "                else:   #node为根\n",
    "                    self.root=node.right\n",
    "                    node.right.parent=None\n",
    "                    node.right=None\"\"\""
   ]
  },
  {
   "cell_type": "code",
   "execution_count": 45,
   "metadata": {},
   "outputs": [],
   "source": [
    "words = []\n",
    "for line in open(\"bible.txt\"):\n",
    "    l = line.replace('.','').replace(',','').replace(';','').replace(':','')\n",
    "    words.extend(l.split(' '))\n",
    "words_size = len(words)\n",
    "word_count = {}\n",
    "for i in range(0,words_size):\n",
    "    word = words[i]\n",
    "    if word in word_count:\n",
    "        word_count[word] += 1\n",
    "    else:\n",
    "        word_count[word] = 1\n",
    "bstree = BSTree()\n",
    "for key,value in word_count.items():\n",
    "    bstree.insert(key,value)"
   ]
  },
  {
   "cell_type": "markdown",
   "metadata": {},
   "source": [
    "# 二分搜索树的前中后续遍历 深度优先遍历"
   ]
  },
  {
   "cell_type": "markdown",
   "metadata": {},
   "source": [
    "中续遍历得到从小到大的排序  "
   ]
  },
  {
   "cell_type": "markdown",
   "metadata": {},
   "source": [
    "后续遍历应用二分搜索树的释放"
   ]
  },
  {
   "cell_type": "markdown",
   "metadata": {},
   "source": [
    "# 二叉搜索树的层序遍历 广度优先遍历"
   ]
  },
  {
   "cell_type": "markdown",
   "metadata": {},
   "source": [
    "利用队列实现"
   ]
  },
  {
   "cell_type": "markdown",
   "metadata": {},
   "source": [
    "# 二叉搜索树的局限性"
   ]
  },
  {
   "cell_type": "markdown",
   "metadata": {},
   "source": [
    "## 顺序插入使得二叉搜索树退化为链表"
   ]
  },
  {
   "cell_type": "markdown",
   "metadata": {},
   "source": [
    "平衡二叉树：红黑树"
   ]
  },
  {
   "cell_type": "markdown",
   "metadata": {},
   "source": [
    "# 树形问题"
   ]
  },
  {
   "cell_type": "markdown",
   "metadata": {},
   "source": [
    "## 1.递归问题"
   ]
  },
  {
   "cell_type": "markdown",
   "metadata": {},
   "source": [
    "## 2.搜索问题"
   ]
  },
  {
   "cell_type": "code",
   "execution_count": null,
   "metadata": {
    "collapsed": true
   },
   "outputs": [],
   "source": []
  }
 ],
 "metadata": {
  "kernelspec": {
   "display_name": "Python 3",
   "language": "python",
   "name": "python3"
  },
  "language_info": {
   "codemirror_mode": {
    "name": "ipython",
    "version": 3
   },
   "file_extension": ".py",
   "mimetype": "text/x-python",
   "name": "python",
   "nbconvert_exporter": "python",
   "pygments_lexer": "ipython3",
   "version": "3.6.1"
  }
 },
 "nbformat": 4,
 "nbformat_minor": 2
}
